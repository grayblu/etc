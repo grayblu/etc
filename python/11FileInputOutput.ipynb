{
 "cells": [
  {
   "cell_type": "code",
   "execution_count": 2,
   "metadata": {},
   "outputs": [],
   "source": [
    "file = open('test.txt','w')\n",
    "file.write('hello')\n",
    "file.close()"
   ]
  },
  {
   "cell_type": "code",
   "execution_count": 20,
   "metadata": {},
   "outputs": [
    {
     "name": "stdout",
     "output_type": "stream",
     "text": [
      "hello\n"
     ]
    }
   ],
   "source": [
    "file = open('test.txt', 'r')\n",
    "str = file.read()\n",
    "print(str)\n",
    "file.close()"
   ]
  },
  {
   "cell_type": "code",
   "execution_count": 16,
   "metadata": {},
   "outputs": [
    {
     "name": "stdout",
     "output_type": "stream",
     "text": [
      "에러: [Errno 2] No such file or directory: 'test1.txt'\n"
     ]
    }
   ],
   "source": [
    "try:    \n",
    "    with open('test1.txt', 'r') as file:\n",
    "        str = file.read()\n",
    "        print(str)\n",
    "except Exception as err:\n",
    "    print('에러: {0}'.format(err))"
   ]
  },
  {
   "cell_type": "code",
   "execution_count": 17,
   "metadata": {},
   "outputs": [
    {
     "name": "stdout",
     "output_type": "stream",
     "text": [
      "initialized\n",
      "entered\n",
      "hello\n",
      "exited\n"
     ]
    }
   ],
   "source": [
    "#  컨텍스트 매니저 구현\n",
    "class open2(object):\n",
    "    def __init__(self, path):\n",
    "        print('initialized')\n",
    "        self.file = open(path)\n",
    "    \n",
    "    def __enter__(self):\n",
    "        print('entered')\n",
    "        return self.file\n",
    "    \n",
    "    def __exit__(self, ext, exv, trb):\n",
    "        print(\"exited\")\n",
    "        self.file.close()\n",
    "        return True\n",
    "    \n",
    "with open2('test.txt') as file:\n",
    "    s = file.read()\n",
    "    print(s)"
   ]
  },
  {
   "cell_type": "code",
   "execution_count": 27,
   "metadata": {},
   "outputs": [],
   "source": [
    "lines = [\"we'll find a way we always have - Interstellar\\n\",\n",
    "          \"I'll find you and I'll kill you - Taken\\n\",\n",
    "          \"I'll be back - Terminator 2\\n\"]\n",
    "\n",
    "with open('movie_quotes.txt', 'w') as file:\n",
    "    file.writelines(lines)"
   ]
  },
  {
   "cell_type": "code",
   "execution_count": 4,
   "metadata": {},
   "outputs": [
    {
     "name": "stdout",
     "output_type": "stream",
     "text": [
      "we'll find a way we always have - Interstellar\n",
      "I'll find you and I'll kill you - Taken\n",
      "I'll be back - Terminator 2\n"
     ]
    }
   ],
   "source": [
    "with open('movie_quotes.txt', 'r') as file:\n",
    "    lines = file.readlines()\n",
    "    line = ''\n",
    "    for line in lines:\n",
    "        print(line, end='')"
   ]
  },
  {
   "cell_type": "code",
   "execution_count": null,
   "metadata": {},
   "outputs": [],
   "source": []
  }
 ],
 "metadata": {
  "kernelspec": {
   "display_name": "Python 3",
   "language": "python",
   "name": "python3"
  },
  "language_info": {
   "codemirror_mode": {
    "name": "ipython",
    "version": 3
   },
   "file_extension": ".py",
   "mimetype": "text/x-python",
   "name": "python",
   "nbconvert_exporter": "python",
   "pygments_lexer": "ipython3",
   "version": "3.7.0"
  }
 },
 "nbformat": 4,
 "nbformat_minor": 2
}
