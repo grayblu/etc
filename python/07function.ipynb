{
 "cells": [
  {
   "cell_type": "code",
   "execution_count": null,
   "metadata": {},
   "outputs": [],
   "source": [
    "def my_abs(arg):\n",
    "    if(arg<0):\n",
    "        result = arg * -1\n",
    "    else:\n",
    "        result = arg\n",
    "        \n",
    "    return result\n",
    "    "
   ]
  },
  {
   "cell_type": "code",
   "execution_count": 3,
   "metadata": {},
   "outputs": [
    {
     "name": "stdout",
     "output_type": "stream",
     "text": [
      "안녕하세요\n",
      "             안녕\n",
      "안녕하세요\n",
      "             안녕\n",
      "안녕하세요\n",
      "             안녕\n"
     ]
    }
   ],
   "source": [
    "def print_string(text, count):\n",
    "    for i in range(count):\n",
    "        print(text)\n",
    "\n",
    "print_string('''안녕하세요\n",
    "             안녕''', 3)"
   ]
  },
  {
   "cell_type": "code",
   "execution_count": 11,
   "metadata": {},
   "outputs": [
    {
     "name": "stdout",
     "output_type": "stream",
     "text": [
      "\n",
      "name = 박상현\n",
      "position = staff\n",
      "nationality = Korea\n",
      "name = 박상현\n",
      "position = 과장\n",
      "nationality = Korea\n",
      "name = 박상현\n",
      "position = staff\n",
      "nationality = ROK\n",
      "name = 박상현\n",
      "position = 과장\n",
      "nationality = Korea\n"
     ]
    }
   ],
   "source": [
    "def print_personnel(name, position='staff', nationality='Korea'):\n",
    "    print('name = {0}'.format(name))\n",
    "    print('position = {0}'.format(position))\n",
    "    print('nationality = {0}'.format(nationality))\n",
    "\n",
    "print()\n",
    "print_personnel(name='박상현')\n",
    "print_personnel(name='박상현', position='과장') # nationality는 기본값 사용\n",
    "print_personnel(name='박상현', nationality='ROK') # position은 기본값 사용\n",
    "print_personnel('박상현',position='과장') #매개변수 위치 변경 불가"
   ]
  },
  {
   "cell_type": "code",
   "execution_count": 15,
   "metadata": {},
   "outputs": [
    {
     "data": {
      "text/plain": [
       "'gag:아버지가방에들어가신다'"
      ]
     },
     "execution_count": 15,
     "metadata": {},
     "output_type": "execute_result"
    }
   ],
   "source": [
    "# 가변 매개변수\n",
    "def merge_string(title, *test_list):\n",
    "    result = title + ':'\n",
    "    for s in test_list:\n",
    "        result = result + s\n",
    "    return result\n",
    "\n",
    "merge_string('gag','아버지가','방에','들어가신다')"
   ]
  },
  {
   "cell_type": "code",
   "execution_count": 20,
   "metadata": {},
   "outputs": [
    {
     "name": "stdout",
     "output_type": "stream",
     "text": [
      "argv1\n",
      "argv2\n",
      "argv3\n",
      "\n"
     ]
    },
    {
     "ename": "TypeError",
     "evalue": "print_args() missing 1 required keyword-only argument: 'argc'",
     "output_type": "error",
     "traceback": [
      "\u001b[1;31m---------------------------------------------------------------------------\u001b[0m",
      "\u001b[1;31mTypeError\u001b[0m                                 Traceback (most recent call last)",
      "\u001b[1;32m<ipython-input-20-14007856c12e>\u001b[0m in \u001b[0;36m<module>\u001b[1;34m()\u001b[0m\n\u001b[0;32m      5\u001b[0m \u001b[0mprint_args\u001b[0m\u001b[1;33m(\u001b[0m\u001b[1;34m\"argv1\"\u001b[0m\u001b[1;33m,\u001b[0m\u001b[1;34m\"argv2\"\u001b[0m\u001b[1;33m,\u001b[0m\u001b[1;34m\"argv3\"\u001b[0m\u001b[1;33m,\u001b[0m\u001b[0margc\u001b[0m\u001b[1;33m=\u001b[0m\u001b[1;36m3\u001b[0m\u001b[1;33m)\u001b[0m \u001b[1;31m# 가변 매개변수 뒤 일반 매개변수는 반드시 키워드 매개변수로 호출\u001b[0m\u001b[1;33m\u001b[0m\u001b[0m\n\u001b[0;32m      6\u001b[0m \u001b[0mprint\u001b[0m\u001b[1;33m(\u001b[0m\u001b[1;33m)\u001b[0m\u001b[1;33m\u001b[0m\u001b[0m\n\u001b[1;32m----> 7\u001b[1;33m \u001b[0mprint_args\u001b[0m\u001b[1;33m(\u001b[0m\u001b[1;34m\"argv1\"\u001b[0m\u001b[1;33m,\u001b[0m\u001b[1;34m\"argv2\"\u001b[0m\u001b[1;33m,\u001b[0m\u001b[1;34m\"argv3\"\u001b[0m\u001b[1;33m,\u001b[0m\u001b[1;36m3\u001b[0m\u001b[1;33m)\u001b[0m \u001b[1;31m# 에러\u001b[0m\u001b[1;33m\u001b[0m\u001b[0m\n\u001b[0m",
      "\u001b[1;31mTypeError\u001b[0m: print_args() missing 1 required keyword-only argument: 'argc'"
     ]
    }
   ],
   "source": [
    "def print_args(*argv, argc):\n",
    "    for i in range(argc):\n",
    "        print(argv[i])\n",
    "\n",
    "print_args(\"argv1\",\"argv2\",\"argv3\",argc=3) # 가변 매개변수 뒤 일반 매개변수는 반드시 키워드 매개변수로 호출\n",
    "print()\n",
    "print_args(\"argv1\",\"argv2\",\"argv3\",3) # 에러\n"
   ]
  },
  {
   "cell_type": "code",
   "execution_count": 34,
   "metadata": {},
   "outputs": [
    {
     "name": "stdout",
     "output_type": "stream",
     "text": [
      "\n",
      "6\n",
      "(1, 2, 3, 4, 5, 6)\n"
     ]
    },
    {
     "data": {
      "text/plain": [
       "21"
      ]
     },
     "execution_count": 34,
     "metadata": {},
     "output_type": "execute_result"
    }
   ],
   "source": [
    "def sum(*number):\n",
    "    result = 0\n",
    "    for num in number:\n",
    "        result += num\n",
    "    return result\n",
    "print()\n",
    "sum(1,2,3)\n",
    "\n",
    "print(sum(1,2,3))\n",
    "\n",
    "numbers = tuple(range(1,7))\n",
    "print(numbers)\n",
    "sum(*numbers)"
   ]
  },
  {
   "cell_type": "code",
   "execution_count": 44,
   "metadata": {},
   "outputs": [
    {
     "ename": "SyntaxError",
     "evalue": "invalid syntax (<ipython-input-44-34e245620ec3>, line 8)",
     "output_type": "error",
     "traceback": [
      "\u001b[1;36m  File \u001b[1;32m\"<ipython-input-44-34e245620ec3>\"\u001b[1;36m, line \u001b[1;32m8\u001b[0m\n\u001b[1;33m    for num in *numbers:\u001b[0m\n\u001b[1;37m               ^\u001b[0m\n\u001b[1;31mSyntaxError\u001b[0m\u001b[1;31m:\u001b[0m invalid syntax\n"
     ]
    }
   ],
   "source": [
    "\n",
    "\n",
    "numbers = []\n",
    "for i in range(1,6):\n",
    "    num = int(input('{} 번째 숫자'.format(i)))\n",
    "    numbers.append(num)\n",
    "\n",
    "for num in numbers:\n",
    "    result = 0\n",
    "    result += num\n",
    "    \n",
    "print(result)"
   ]
  },
  {
   "cell_type": "code",
   "execution_count": 49,
   "metadata": {},
   "outputs": [
    {
     "name": "stdout",
     "output_type": "stream",
     "text": [
      "[1, 4, 9, 16, 25, 36]\n",
      "[16, 256, 1296]\n"
     ]
    }
   ],
   "source": [
    "numbers = [1,2,3,4,5,6]\n",
    "numbers = [i*i for i in numbers]\n",
    "print(numbers)\n",
    "numbers = [i*i for i in numbers if i%2==0]\n",
    "print(numbers)"
   ]
  },
  {
   "cell_type": "code",
   "execution_count": 53,
   "metadata": {},
   "outputs": [
    {
     "name": "stdout",
     "output_type": "stream",
     "text": [
      "None\n"
     ]
    }
   ],
   "source": [
    "# NONE을 반환하는 경우\n",
    "def my_def(arg):\n",
    "    if arg > 0:\n",
    "        return arg\n",
    "    if arg < 0:\n",
    "        return arg * -1\n",
    "\n",
    "result = my_def(0)\n",
    "print(result)"
   ]
  },
  {
   "cell_type": "code",
   "execution_count": 56,
   "metadata": {},
   "outputs": [
    {
     "name": "stdout",
     "output_type": "stream",
     "text": [
      "a:0\n",
      "a:0\n"
     ]
    }
   ],
   "source": [
    "def scope_test():\n",
    "#     a = 1\n",
    "    print('a:{0}'.format(a)) # a가 전역변수로 사용됨\n",
    "\n",
    "a = 0\n",
    "scope_test()\n",
    "print('a:{0}'.format(a))"
   ]
  },
  {
   "cell_type": "code",
   "execution_count": 58,
   "metadata": {},
   "outputs": [
    {
     "name": "stdout",
     "output_type": "stream",
     "text": [
      "a:1\n",
      "a:1\n"
     ]
    }
   ],
   "source": [
    "def scope_test():\n",
    "    global a\n",
    "    a =1\n",
    "    print('a:{0}'.format(a))\n",
    "a = 0\n",
    "scope_test()\n",
    "print('a:{0}'.format(a))"
   ]
  },
  {
   "cell_type": "code",
   "execution_count": 60,
   "metadata": {},
   "outputs": [
    {
     "name": "stdout",
     "output_type": "stream",
     "text": [
      "123\n"
     ]
    }
   ],
   "source": [
    "def print_something(a):\n",
    "    print(a)\n",
    "\n",
    "p = print_something\n",
    "p(123)"
   ]
  },
  {
   "cell_type": "code",
   "execution_count": 65,
   "metadata": {},
   "outputs": [
    {
     "data": {
      "text/plain": [
       "2"
      ]
     },
     "execution_count": 65,
     "metadata": {},
     "output_type": "execute_result"
    }
   ],
   "source": [
    "def plus(a, b):\n",
    "    return a+b\n",
    "def minus(a,b):\n",
    "    return a-b\n",
    "\n",
    "flist = [plus, minus]\n",
    "flist[0](1,2) #plus 함수 호출\n",
    "flist[1](3,1) #minus 함수 호출\n"
   ]
  },
  {
   "cell_type": "code",
   "execution_count": 66,
   "metadata": {},
   "outputs": [
    {
     "name": "stdout",
     "output_type": "stream",
     "text": [
      "안녕하세요\n",
      "hello\n"
     ]
    }
   ],
   "source": [
    "def hello_korean():\n",
    "    print('안녕하세요')\n",
    "def hello_english():\n",
    "    print('hello')\n",
    "def greet(hello): #매개변수를 함수명으로 정의하고 함수를 호출하도록 한 greet 함수\n",
    "    hello()\n",
    "\n",
    "greet(hello_korean)\n",
    "greet(hello_english)"
   ]
  },
  {
   "cell_type": "code",
   "execution_count": 70,
   "metadata": {},
   "outputs": [
    {
     "name": "stdout",
     "output_type": "stream",
     "text": [
      "안녕하세요\n",
      "hello\n"
     ]
    }
   ],
   "source": [
    "def get_greeting(where):\n",
    "    if where == 'K':\n",
    "        return hello_korean\n",
    "    else:\n",
    "        return hello_english\n",
    "\n",
    "hello = get_greeting('K')\n",
    "hello()\n",
    "hello = get_greeting('E')\n",
    "hello()"
   ]
  },
  {
   "cell_type": "code",
   "execution_count": 76,
   "metadata": {},
   "outputs": [
    {
     "data": {
      "text/plain": [
       "0.6"
      ]
     },
     "execution_count": 76,
     "metadata": {},
     "output_type": "execute_result"
    }
   ],
   "source": [
    "# 네이밍 충돌을 피하는 방법\n",
    "# 중첩 함수는 해당 함수 내에서만 호출 가능\n",
    "import math\n",
    "\n",
    "def stddev(*args):\n",
    "    def mean():\n",
    "        return sum(*args)/len(args)\n",
    "    def variance(m):\n",
    "        total = 0\n",
    "        for arg in args:\n",
    "            total += (arg - m) ** 2\n",
    "        return total/(len(args)-1)\n",
    "    v = variance(mean())\n",
    "    return math.sqrt(v)\n",
    "\n",
    "stddev(2.3, 1.7, 1.4, 0.7, 1.9)\n"
   ]
  },
  {
   "cell_type": "code",
   "execution_count": 78,
   "metadata": {},
   "outputs": [
    {
     "data": {
      "text/plain": [
       "3"
      ]
     },
     "execution_count": 78,
     "metadata": {},
     "output_type": "execute_result"
    }
   ],
   "source": [
    "def empty_function():\n",
    "    pass\n",
    "\n",
    "# 파이썬 람다식 - 한 줄짜리 정의만 가능\n",
    "a = lambda x,y: x+y\n",
    "a(1,2)\n",
    "a = lambda x,y: sum(x,y)\n",
    "a(1,2)"
   ]
  },
  {
   "cell_type": "code",
   "execution_count": 92,
   "metadata": {},
   "outputs": [
    {
     "name": "stdout",
     "output_type": "stream",
     "text": [
      "5는 소수\n",
      "5는 소수\n",
      "5는 소수\n"
     ]
    }
   ],
   "source": [
    "a = 5\n",
    "def prime(a):\n",
    "    for i in range(2,a+1):\n",
    "        if(a % i == 0):\n",
    "            break;\n",
    "        else:\n",
    "            print('{}는 소수'.format(a))\n",
    "# for문이 끝까지 실행될 경우 else문 실행\n",
    "\n",
    "prime(a)"
   ]
  },
  {
   "cell_type": "code",
   "execution_count": null,
   "metadata": {},
   "outputs": [],
   "source": []
  },
  {
   "cell_type": "code",
   "execution_count": null,
   "metadata": {},
   "outputs": [],
   "source": []
  }
 ],
 "metadata": {
  "kernelspec": {
   "display_name": "Python 3",
   "language": "python",
   "name": "python3"
  },
  "language_info": {
   "codemirror_mode": {
    "name": "ipython",
    "version": 3
   },
   "file_extension": ".py",
   "mimetype": "text/x-python",
   "name": "python",
   "nbconvert_exporter": "python",
   "pygments_lexer": "ipython3",
   "version": "3.7.0"
  }
 },
 "nbformat": 4,
 "nbformat_minor": 2
}
