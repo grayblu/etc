{
 "cells": [
  {
   "cell_type": "code",
   "execution_count": 6,
   "metadata": {},
   "outputs": [
    {
     "data": {
      "text/plain": [
       "2"
      ]
     },
     "execution_count": 6,
     "metadata": {},
     "output_type": "execute_result"
    }
   ],
   "source": [
    "iterator = range(3).__iter__()\n",
    "iterator.__next__()\n",
    "iterator.__next__()\n",
    "iterator.__next__()\n",
    "\n"
   ]
  },
  {
   "cell_type": "code",
   "execution_count": 11,
   "metadata": {},
   "outputs": [
    {
     "name": "stdout",
     "output_type": "stream",
     "text": [
      "0\n",
      "1\n",
      "2\n",
      "3\n",
      "4\n"
     ]
    }
   ],
   "source": [
    "class MyRange:\n",
    "    def __init__(self, start, end):\n",
    "        self.current = start\n",
    "        self.end = end\n",
    "    def __iter__(self):\n",
    "        return self\n",
    "    def __next__(self):\n",
    "        if self.current < self.end:\n",
    "            current = self.current\n",
    "            self.current += 1\n",
    "            return current\n",
    "        else:\n",
    "            raise StopIteration()\n",
    "\n",
    "for i in MyRange(0, 5):\n",
    "    print(i)"
   ]
  },
  {
   "cell_type": "code",
   "execution_count": 21,
   "metadata": {},
   "outputs": [
    {
     "name": "stdout",
     "output_type": "stream",
     "text": [
      "3\n",
      "5\n",
      "7\n",
      "9\n"
     ]
    }
   ],
   "source": [
    "class PrimeSequence:\n",
    "    def __init__(self,end):\n",
    "        self.current = 2;\n",
    "        self.end = end\n",
    "    def __iter__(self):\n",
    "        return self\n",
    "    def __next__(self):\n",
    "        while(self.current <= self.end):\n",
    "            current = self.current\n",
    "            self.current += 1\n",
    "            if self.isPrime(current):\n",
    "                return current\n",
    "        raise StopIteration()\n",
    "            \n",
    "    def isPrime(self, num):\n",
    "        for n in range(2,num):\n",
    "            if num % n == 0:\n",
    "                return False\n",
    "            return True\n",
    "        \n",
    "for pn in PrimeSequence(10):\n",
    "    print(pn)\n",
    "            "
   ]
  },
  {
   "cell_type": "code",
   "execution_count": null,
   "metadata": {},
   "outputs": [],
   "source": []
  }
 ],
 "metadata": {
  "kernelspec": {
   "display_name": "Python 3",
   "language": "python",
   "name": "python3"
  },
  "language_info": {
   "codemirror_mode": {
    "name": "ipython",
    "version": 3
   },
   "file_extension": ".py",
   "mimetype": "text/x-python",
   "name": "python",
   "nbconvert_exporter": "python",
   "pygments_lexer": "ipython3",
   "version": "3.7.0"
  }
 },
 "nbformat": 4,
 "nbformat_minor": 2
}
