{
 "cells": [
  {
   "cell_type": "code",
   "execution_count": 3,
   "metadata": {},
   "outputs": [
    {
     "name": "stdout",
     "output_type": "stream",
     "text": [
      "요일(월~일)을 입력하세요 : \n",
      "수\n",
      "잘못 입력했습니다.\n"
     ]
    }
   ],
   "source": [
    "print('요일(월~일)을 입력하세요 : ')\n",
    "dow = input()\n",
    "\n",
    "if dow == '월':\n",
    "    print('Monday')\n",
    "elif dow == '화':\n",
    "    print('Tuesday')\n",
    "else:\n",
    "    print(\"잘못 입력했습니다.\")"
   ]
  },
  {
   "cell_type": "code",
   "execution_count": null,
   "metadata": {},
   "outputs": [
    {
     "name": "stdout",
     "output_type": "stream",
     "text": [
      "수를 입력하세요 : \n"
     ]
    }
   ],
   "source": [
    "print('수를 입력하세요 : ')\n",
    "a = int(input())\n",
    "if a > 10:\n",
    "    if a%2 == 0: print('10보다 큰 짝수')\n",
    "    else:        print('10보다 큰 홀수')\n",
    "else:\n",
    "    if a %2 == 0:\n",
    "        print('10 이하의 짝수')\n",
    "    else:\n",
    "        print('10 이하의 홀수')"
   ]
  },
  {
   "cell_type": "code",
   "execution_count": 14,
   "metadata": {},
   "outputs": [
    {
     "name": "stdout",
     "output_type": "stream",
     "text": [
      "월\n"
     ]
    }
   ],
   "source": [
    "dic = {'월':'Mon','화':'Tue','수':'Wed','목':'Thu','금':'Fri'}\n",
    "\n",
    "dow = input()\n",
    "if dow in dic.keys():\n",
    "    dic.values()\n"
   ]
  },
  {
   "cell_type": "code",
   "execution_count": 9,
   "metadata": {},
   "outputs": [
    {
     "name": "stdout",
     "output_type": "stream",
     "text": [
      "21\n"
     ]
    }
   ],
   "source": [
    "# 3항 연산자\n",
    "a = 7\n",
    "b = 7 * (2 if (a%2 == 0) else 3)\n",
    "print(b)"
   ]
  },
  {
   "cell_type": "code",
   "execution_count": 21,
   "metadata": {},
   "outputs": [
    {
     "data": {
      "text/plain": [
       "[1, 3, 4, 6]"
      ]
     },
     "execution_count": 21,
     "metadata": {},
     "output_type": "execute_result"
    }
   ],
   "source": [
    "a = [4,3,6,1]\n",
    "a.sort()\n",
    "a"
   ]
  },
  {
   "cell_type": "code",
   "execution_count": 24,
   "metadata": {},
   "outputs": [
    {
     "data": {
      "text/plain": [
       "[4, 3, 6, 1]"
      ]
     },
     "execution_count": 24,
     "metadata": {},
     "output_type": "execute_result"
    }
   ],
   "source": [
    "a = [4,3,6,1]\n",
    "b = sorted(a)\n",
    "b\n",
    "a"
   ]
  },
  {
   "cell_type": "code",
   "execution_count": 29,
   "metadata": {},
   "outputs": [
    {
     "name": "stdout",
     "output_type": "stream",
     "text": [
      "[('john', 'A', 14), ('jane', 'B', 10), ('dave', 'C', 12)]\n"
     ]
    }
   ],
   "source": [
    "student = [\n",
    "    ('john', 'A', 14),\n",
    "    ('jane', 'B', 10),\n",
    "    ('dave', 'C', 12),\n",
    "]\n",
    "\n",
    "student.sort(reverse=True)\n",
    "print(student)\n",
    "#  튜플의 첫 번째 엘리먼트 정렬"
   ]
  },
  {
   "cell_type": "code",
   "execution_count": null,
   "metadata": {},
   "outputs": [],
   "source": []
  }
 ],
 "metadata": {
  "kernelspec": {
   "display_name": "Python 3",
   "language": "python",
   "name": "python3"
  },
  "language_info": {
   "codemirror_mode": {
    "name": "ipython",
    "version": 3
   },
   "file_extension": ".py",
   "mimetype": "text/x-python",
   "name": "python",
   "nbconvert_exporter": "python",
   "pygments_lexer": "ipython3",
   "version": "3.7.0"
  }
 },
 "nbformat": 4,
 "nbformat_minor": 2
}
