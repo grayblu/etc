{
 "cells": [
  {
   "cell_type": "code",
   "execution_count": 1,
   "metadata": {},
   "outputs": [
    {
     "name": "stdout",
     "output_type": "stream",
     "text": [
      "몇 번 반복할까요? : \n",
      "10\n",
      "1회 반복.\n",
      "2회 반복.\n",
      "3회 반복.\n",
      "4회 반복.\n",
      "5회 반복.\n",
      "6회 반복.\n",
      "7회 반복.\n",
      "8회 반복.\n",
      "9회 반복.\n",
      "10회 반복.\n",
      "반복이 종료되었습니다.\n"
     ]
    }
   ],
   "source": [
    "print('몇 번 반복할까요? : ')\n",
    "limit = int(input())\n",
    "\n",
    "count =0\n",
    "while count < limit:\n",
    "    count = count + 1\n",
    "    print('{0}회 반복.'.format(count))\n",
    "    \n",
    "print('반복이 종료되었습니다.')"
   ]
  },
  {
   "cell_type": "code",
   "execution_count": null,
   "metadata": {},
   "outputs": [],
   "source": []
  }
 ],
 "metadata": {
  "kernelspec": {
   "display_name": "Python 3",
   "language": "python",
   "name": "python3"
  },
  "language_info": {
   "codemirror_mode": {
    "name": "ipython",
    "version": 3
   },
   "file_extension": ".py",
   "mimetype": "text/x-python",
   "name": "python",
   "nbconvert_exporter": "python",
   "pygments_lexer": "ipython3",
   "version": "3.7.0"
  }
 },
 "nbformat": 4,
 "nbformat_minor": 2
}
