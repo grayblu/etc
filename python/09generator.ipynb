{
 "cells": [
  {
   "cell_type": "code",
   "execution_count": 8,
   "metadata": {},
   "outputs": [
    {
     "name": "stdout",
     "output_type": "stream",
     "text": [
      "0\n",
      "1\n",
      "2\n",
      "3\n",
      "4\n"
     ]
    }
   ],
   "source": [
    "def YourRange(start, end):\n",
    "    current = start\n",
    "    while current < end:\n",
    "        yield current\n",
    "        current += 1\n",
    "    return\n",
    "\n",
    "for i in YourRange(0,5):\n",
    "    print(i)"
   ]
  },
  {
   "cell_type": "code",
   "execution_count": 3,
   "metadata": {},
   "outputs": [
    {
     "name": "stdout",
     "output_type": "stream",
     "text": [
      "3\n",
      "5\n",
      "7\n",
      "9\n"
     ]
    }
   ],
   "source": [
    "def PrimeSequence(end):\n",
    "    current = 2\n",
    "    while(current < end):\n",
    "        if isPrime(current):\n",
    "            yield current\n",
    "        current += 1\n",
    "\n",
    "        \n",
    "def isPrime(num):\n",
    "    for n in range(2,num):\n",
    "        if num % n == 0:\n",
    "            return False\n",
    "        return True\n",
    "        \n",
    "for pn in PrimeSequence(11):\n",
    "    print(pn)\n",
    "            "
   ]
  },
  {
   "cell_type": "code",
   "execution_count": 1,
   "metadata": {},
   "outputs": [
    {
     "name": "stdout",
     "output_type": "stream",
     "text": [
      "홍길동\n",
      "고길동\n",
      "홍길동\n"
     ]
    }
   ],
   "source": [
    "class Test:\n",
    "    def __init__(self, name):\n",
    "        self.name = name\n",
    "    \n",
    "    def print_name(self):\n",
    "        print(self.name)\n",
    "\n",
    "test1 = Test(\"홍길동\")\n",
    "test2 = Test(\"고길동\")\n",
    "\n",
    "print_name1 = test1.print_name\n",
    "print_name2 = test2.print_name\n",
    "print_name3 = Test.print_name\n",
    "\n",
    "print_name1()\n",
    "print_name2()\n",
    "print_name3(test1)"
   ]
  },
  {
   "cell_type": "code",
   "execution_count": null,
   "metadata": {},
   "outputs": [],
   "source": [
    "# 추상 기반 클래스\n",
    "\n"
   ]
  }
 ],
 "metadata": {
  "kernelspec": {
   "display_name": "Python 3",
   "language": "python",
   "name": "python3"
  },
  "language_info": {
   "codemirror_mode": {
    "name": "ipython",
    "version": 3
   },
   "file_extension": ".py",
   "mimetype": "text/x-python",
   "name": "python",
   "nbconvert_exporter": "python",
   "pygments_lexer": "ipython3",
   "version": "3.7.0"
  }
 },
 "nbformat": 4,
 "nbformat_minor": 2
}
