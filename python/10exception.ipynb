{
 "cells": [
  {
   "cell_type": "code",
   "execution_count": 1,
   "metadata": {},
   "outputs": [
    {
     "ename": "ZeroDivisionError",
     "evalue": "division by zero",
     "output_type": "error",
     "traceback": [
      "\u001b[1;31m---------------------------------------------------------------------------\u001b[0m",
      "\u001b[1;31mZeroDivisionError\u001b[0m                         Traceback (most recent call last)",
      "\u001b[1;32m<ipython-input-1-9e1622b385b6>\u001b[0m in \u001b[0;36m<module>\u001b[1;34m()\u001b[0m\n\u001b[1;32m----> 1\u001b[1;33m \u001b[1;36m1\u001b[0m\u001b[1;33m/\u001b[0m\u001b[1;36m0\u001b[0m\u001b[1;33m\u001b[0m\u001b[0m\n\u001b[0m",
      "\u001b[1;31mZeroDivisionError\u001b[0m: division by zero"
     ]
    }
   ],
   "source": [
    "1/0\n"
   ]
  },
  {
   "cell_type": "code",
   "execution_count": 2,
   "metadata": {},
   "outputs": [
    {
     "name": "stdout",
     "output_type": "stream",
     "text": [
      "예외 발생\n"
     ]
    }
   ],
   "source": [
    "try:\n",
    "    print(1/0)\n",
    "    \n",
    "except:\n",
    "    print(\"예외 발생\")"
   ]
  },
  {
   "cell_type": "code",
   "execution_count": 7,
   "metadata": {},
   "outputs": [
    {
     "name": "stdout",
     "output_type": "stream",
     "text": [
      "첨자를 입력\n",
      "1\n",
      "0으로 나눌 수 없음. division by zero\n"
     ]
    }
   ],
   "source": [
    "my_list = [1,2,3]\n",
    "\n",
    "try:    \n",
    "    print(\"첨자를 입력\")\n",
    "    index = int(input())\n",
    "    print(my_list[index]/0)\n",
    "except ZeroDivisionError as err:\n",
    "    print(\"0으로 나눌 수 없음. {0}\".format(err))\n",
    "except IndexError as err:\n",
    "    print('잘못된 첨자임')\n",
    "    "
   ]
  },
  {
   "cell_type": "code",
   "execution_count": 11,
   "metadata": {},
   "outputs": [
    {
     "name": "stdout",
     "output_type": "stream",
     "text": [
      "첨자를 입력\n",
      "3\n",
      "예외가 발생했습니다 (list index out of range)\n",
      "리스트의 요소 출력에 성공했습니다.\n"
     ]
    }
   ],
   "source": [
    "my_list = [1,2,3]\n",
    "\n",
    "try:\n",
    "    print('첨자를 입력')\n",
    "    index = int(input())\n",
    "    print(\"my_list[{0}]: {1}\".format(index, my_list[index]))\n",
    "except Exception as err:\n",
    "    print(\"예외가 발생했습니다 ({0})\".format(err))\n",
    "else:\n",
    "    print(\"리스트의 요소 출력에 성공했습니다.\")\n",
    "finally:\n",
    "    print(\"어떤 일이 있어도 마무리합니다.\")"
   ]
  },
  {
   "cell_type": "code",
   "execution_count": 14,
   "metadata": {},
   "outputs": [
    {
     "name": "stdout",
     "output_type": "stream",
     "text": [
      "첨자를 입력\n",
      "1\n",
      "my_list[1]: 2\n",
      "어떤 일이 있어도 마무리합니다.\n"
     ]
    },
    {
     "data": {
      "text/plain": [
       "2"
      ]
     },
     "execution_count": 14,
     "metadata": {},
     "output_type": "execute_result"
    }
   ],
   "source": [
    "my_list = [1,2,3]\n",
    "\n",
    "def func(list):\n",
    "    try:\n",
    "        print('첨자를 입력')\n",
    "        index = int(input())\n",
    "        print(\"my_list[{0}]: {1}\".format(index, my_list[index]))\n",
    "        return list[index]\n",
    "    except Exception as err:\n",
    "        print(\"예외가 발생했습니다 ({0})\".format(err))\n",
    "    else:\n",
    "        print(\"리스트의 요소 출력에 성공했습니다.\")\n",
    "    finally:\n",
    "        print(\"어떤 일이 있어도 마무리합니다.\")\n",
    "    \n",
    "func(my_list)"
   ]
  },
  {
   "cell_type": "code",
   "execution_count": 17,
   "metadata": {},
   "outputs": [
    {
     "name": "stdout",
     "output_type": "stream",
     "text": [
      "예외 발생: 예외를 일으킵니다.\n"
     ]
    }
   ],
   "source": [
    "try:\n",
    "    raise Exception(\"예외를 일으킵니다.\")\n",
    "except Exception as err:\n",
    "    print(\"예외 발생: {0}\".format(err))"
   ]
  },
  {
   "cell_type": "code",
   "execution_count": 21,
   "metadata": {},
   "outputs": [
    {
     "name": "stdout",
     "output_type": "stream",
     "text": [
      "1~10 사이의 수를 입력하세요:\n",
      "0\n",
      "1) 예외가 발생했습니다. 유효하지 않은 숫자입니다.: 0\n",
      "2) 예외가 발생했습니다. 유효하지 않은 숫자입니다.: 0\n"
     ]
    }
   ],
   "source": [
    "def some_function():\n",
    "    print('1~10 사이의 수를 입력하세요:')\n",
    "    num = int(input())\n",
    "    if num < 1 or num > 10:\n",
    "        raise Exception(\"유효하지 않은 숫자입니다.: {0}\".format(num))\n",
    "    else:\n",
    "        print('입력한 숫자는 {0}입니다.'.format(num))\n",
    "\n",
    "def some_function_caller():\n",
    "    try:\n",
    "        some_function()\n",
    "    except Exception as err:\n",
    "        print('1) 예외가 발생했습니다. {0}'.format(err))\n",
    "        raise\n",
    "\n",
    "\n",
    "try:\n",
    "    some_function_caller()\n",
    "except Exception as err:\n",
    "    print('2) 예외가 발생했습니다. {0}'.format(err))"
   ]
  },
  {
   "cell_type": "code",
   "execution_count": null,
   "metadata": {},
   "outputs": [],
   "source": []
  },
  {
   "cell_type": "code",
   "execution_count": null,
   "metadata": {},
   "outputs": [],
   "source": []
  },
  {
   "cell_type": "code",
   "execution_count": null,
   "metadata": {},
   "outputs": [],
   "source": []
  },
  {
   "cell_type": "code",
   "execution_count": null,
   "metadata": {},
   "outputs": [],
   "source": []
  }
 ],
 "metadata": {
  "kernelspec": {
   "display_name": "Python 3",
   "language": "python",
   "name": "python3"
  },
  "language_info": {
   "codemirror_mode": {
    "name": "ipython",
    "version": 3
   },
   "file_extension": ".py",
   "mimetype": "text/x-python",
   "name": "python",
   "nbconvert_exporter": "python",
   "pygments_lexer": "ipython3",
   "version": "3.7.0"
  }
 },
 "nbformat": 4,
 "nbformat_minor": 2
}
